{
 "cells": [
  {
   "cell_type": "code",
   "execution_count": 1,
   "metadata": {},
   "outputs": [],
   "source": [
    "import pickle, gzip\n",
    "import numpy as np\n",
    "\n",
    "# Load the dataset\n",
    "f = gzip.open('C:\\\\Users\\\\kshitij\\\\Desktop\\\\coursera asg\\\\datasets\\\\mnist.pkl.gz', 'rb')\n",
    "train_set, valid_set, test_set = pickle.load(f,encoding='latin1')\n",
    "f.close()"
   ]
  },
  {
   "cell_type": "code",
   "execution_count": 2,
   "metadata": {},
   "outputs": [
    {
     "name": "stdout",
     "output_type": "stream",
     "text": [
      "(50000, 784)\n"
     ]
    }
   ],
   "source": [
    "x, y = train_set\n",
    "print(x.shape)"
   ]
  },
  {
   "cell_type": "code",
   "execution_count": 3,
   "metadata": {},
   "outputs": [],
   "source": [
    "X = x.T"
   ]
  },
  {
   "cell_type": "code",
   "execution_count": 4,
   "metadata": {},
   "outputs": [],
   "source": [
    "y=y.reshape(1,50000)"
   ]
  },
  {
   "cell_type": "code",
   "execution_count": 5,
   "metadata": {},
   "outputs": [
    {
     "name": "stdout",
     "output_type": "stream",
     "text": [
      "(784, 50000)\n"
     ]
    }
   ],
   "source": [
    "print(X.shape)"
   ]
  },
  {
   "cell_type": "code",
   "execution_count": 6,
   "metadata": {},
   "outputs": [],
   "source": [
    "m=X.shape[1]\n"
   ]
  },
  {
   "cell_type": "code",
   "execution_count": 7,
   "metadata": {},
   "outputs": [],
   "source": [
    "Y = np.zeros((10,m))\n",
    "for i in range(m):\n",
    "    Y[int(y[0,i]),i]=1"
   ]
  },
  {
   "cell_type": "code",
   "execution_count": 8,
   "metadata": {},
   "outputs": [],
   "source": [
    "def initialize_parameters(dims):\n",
    "    parameters={}\n",
    "    l = len(dims)\n",
    "    for i in range(1,l):\n",
    "        parameters['W'+str(i)] = np.random.randn(dims[i],dims[i-1])*0.01\n",
    "        parameters['b'+str(i)] = np.zeros((dims[i],1))\n",
    "    return parameters"
   ]
  },
  {
   "cell_type": "code",
   "execution_count": 9,
   "metadata": {},
   "outputs": [],
   "source": [
    "def relu(Z):\n",
    "    x = np.maximum(0,Z)\n",
    "    return x"
   ]
  },
  {
   "cell_type": "code",
   "execution_count": 10,
   "metadata": {},
   "outputs": [],
   "source": [
    "def softmax(x):\n",
    "    \"\"\"Compute softmax values for each sets of scores in x.\"\"\"\n",
    "    e_x = np.exp(x - np.max(x))\n",
    "    return e_x/np.sum(e_x, axis=0, keepdims=True)"
   ]
  },
  {
   "cell_type": "code",
   "execution_count": 31,
   "metadata": {},
   "outputs": [],
   "source": [
    "def forward_propagation(X, parameters):\n",
    "    cache = {}\n",
    "    l = len(parameters)//2\n",
    "    cache['A0'] = X\n",
    "    for i in range(1,l+1):\n",
    "        cache['Z'+str(i)] = np.dot(parameters['W'+str(i)],cache['A'+str(i-1)]) + parameters['b'+str(i)]\n",
    "        \n",
    "        cache['A'+str(i)] = relu(cache['Z'+str(i)])\n",
    "        \n",
    "    cache['A'+str(l)] = softmax(cache['Z'+str(l)])\n",
    "            \n",
    "    return cache"
   ]
  },
  {
   "cell_type": "code",
   "execution_count": 32,
   "metadata": {},
   "outputs": [],
   "source": [
    "def compute_cost(AL,Y):\n",
    "    m = Y.shape[1]\n",
    "    cost = -1*np.sum(Y*np.log(AL+0.0001))/m\n",
    "    return cost"
   ]
  },
  {
   "cell_type": "code",
   "execution_count": 33,
   "metadata": {},
   "outputs": [],
   "source": [
    "def backRelu(Z):\n",
    "    c = (Z + np.abs(Z))/(2*np.abs(Z))\n",
    "    return c"
   ]
  },
  {
   "cell_type": "code",
   "execution_count": 34,
   "metadata": {},
   "outputs": [],
   "source": [
    "def back_propagation(X, Y, parameters, cache):\n",
    "    m = Y.shape[1]\n",
    "    l = len(parameters)//2\n",
    "    back_cache = {}\n",
    "    \n",
    "    dZ = cache['A'+str(l)] - Y\n",
    "    back_cache['dW'+str(l)] = (1/m)*np.dot(dZ, cache['A'+str(l-1)].T)\n",
    "    back_cache['db'+str(l)] = (1/m)*np.sum(dZ, axis=1, keepdims = True)\n",
    "    \n",
    "    for i in reversed(range(1,l)):\n",
    "        dZ = np.dot(parameters['W'+str(i+1)].T,dZ)*backRelu(cache['Z'+str(i)])\n",
    "        back_cache['dW'+str(i)] = (1/m)*np.dot(dZ, cache['A'+str(i-1)].T)\n",
    "        back_cache['db'+str(i)] = (1/m)*np.sum(dZ, axis=1, keepdims=True)\n",
    "     \n",
    "    return back_cache"
   ]
  },
  {
   "cell_type": "code",
   "execution_count": 35,
   "metadata": {},
   "outputs": [],
   "source": [
    "def update(paramters, back_cache, lr):\n",
    "    l = len(parameters)//2\n",
    "    for i in range(1,l+1):\n",
    "        parameters['W'+str(i)] -= lr*back_cache['dW'+str(i)]\n",
    "        parameters['b'+str(i)] -= lr*back_cache['db'+str(i)]\n",
    "        \n",
    "    return parameters\n",
    "        "
   ]
  },
  {
   "cell_type": "code",
   "execution_count": 38,
   "metadata": {},
   "outputs": [],
   "source": [
    "parameters = initialize_parameters([784, 500, 100, 10])"
   ]
  },
  {
   "cell_type": "code",
   "execution_count": 118,
   "metadata": {
    "scrolled": true
   },
   "outputs": [
    {
     "name": "stdout",
     "output_type": "stream",
     "text": [
      "0.29119490994286085\n",
      "0.29098385311132613\n",
      "0.29077298058813267\n",
      "0.2905623115556372\n",
      "0.2903518410065994\n",
      "0.29014166308070677\n",
      "0.2899317186175808\n",
      "0.2897219988875039\n",
      "0.28951249360713605\n",
      "0.2893032698892011\n",
      "0.2890941721317293\n",
      "0.2888851936571267\n",
      "0.28867637124907136\n",
      "0.28846773854356883\n",
      "0.2882592391918395\n",
      "0.28805100446798637\n",
      "0.28784298064139185\n",
      "0.2876351770608066\n",
      "0.28742756905947675\n",
      "0.28722021739898246\n",
      "0.287013034428359\n",
      "0.2868059891052818\n",
      "0.28659911578290076\n",
      "0.28639250805674127\n",
      "0.2861861276368658\n",
      "0.2859799223680213\n",
      "0.2857740013097327\n",
      "0.2855684141279551\n",
      "0.28536319849836\n",
      "0.28515820711266954\n",
      "0.28495338122902086\n",
      "0.28474880703926464\n",
      "0.28454442981665684\n",
      "0.2843401105965905\n",
      "0.28413599254726646\n",
      "0.28393200489657894\n",
      "0.2837281338267265\n",
      "0.28352442347301177\n",
      "0.2833208530241048\n",
      "0.28311758601190984\n",
      "0.28291455153685025\n",
      "0.28271181980362153\n",
      "0.28250917725151564\n",
      "0.28230686497972396\n",
      "0.2821047166906879\n",
      "0.28190275484338845\n",
      "0.2817009684438441\n",
      "0.2814993229972766\n",
      "0.2812979260879567\n",
      "0.28109672230761296\n",
      "0.2808957541467637\n",
      "0.280694921637931\n",
      "0.2804943380858063\n",
      "0.28029384760781517\n",
      "0.28009361023574814\n",
      "0.2798935617066339\n",
      "0.2796937004086628\n",
      "0.2794939858441689\n",
      "0.2792944200515382\n",
      "0.2790950788201269\n",
      "0.2788958568200245\n",
      "0.27869686532785576\n",
      "0.27849796776775204\n",
      "0.27829916910894875\n",
      "0.2781004532890712\n",
      "0.27790177315736014\n",
      "0.27770334039632943\n",
      "0.27750493890093075\n",
      "0.27730668326769226\n",
      "0.2771086722929783\n",
      "0.27691086662117104\n",
      "0.2767133047389514\n",
      "0.27651594847525107\n",
      "0.2763188615069889\n",
      "0.2761218831127991\n",
      "0.2759250922427871\n",
      "0.2757284615743788\n",
      "0.2755320126195376\n",
      "0.27533578765645533\n",
      "0.27513972935451636\n",
      "0.27494375085583594\n",
      "0.274747897305588\n",
      "0.2745521768605556\n",
      "0.27435664848448954\n",
      "0.27416126050002776\n",
      "0.2739660004089365\n",
      "0.2737709165190304\n",
      "0.2735759877130932\n",
      "0.27338117380524163\n",
      "0.2731864634952319\n",
      "0.27299182220200136\n",
      "0.27279745727094107\n",
      "0.2726032791688533\n",
      "0.2724091724958927\n",
      "0.27221518713983617\n",
      "0.2720213167857683\n",
      "0.27182765727788094\n",
      "0.27163419665927124\n",
      "0.2714409263741034\n",
      "0.27124787251051696\n"
     ]
    }
   ],
   "source": [
    "for i in range(100):\n",
    "    cache = forward_propagation(X, parameters)\n",
    "    c = compute_cost(cache['A'+str(len([784, 500,100, 10])-1)],Y)\n",
    "    print(c)\n",
    "    grads = back_propagation(X, Y, parameters, cache)\n",
    "    \n",
    "    parameters = update(parameters, grads, 0.1)\n",
    "    #print('Z3 =',cache['Z3'])\n",
    "    #print(\"A3=\",cache['A3'])\n",
    "        \n",
    "    \n"
   ]
  },
  {
   "cell_type": "code",
   "execution_count": 119,
   "metadata": {},
   "outputs": [],
   "source": [
    "A = cache['A3'].T"
   ]
  },
  {
   "cell_type": "code",
   "execution_count": 122,
   "metadata": {},
   "outputs": [],
   "source": [
    "\n",
    "temp = []\n",
    "for row in A:\n",
    "    temp.append(np.argmax(row))\n",
    "    "
   ]
  },
  {
   "cell_type": "code",
   "execution_count": 123,
   "metadata": {},
   "outputs": [],
   "source": [
    "count = 0\n",
    "for i in range(len(temp)):\n",
    "    if temp[i]==y[0][i]:\n",
    "        count+=1"
   ]
  },
  {
   "cell_type": "code",
   "execution_count": 124,
   "metadata": {},
   "outputs": [
    {
     "name": "stdout",
     "output_type": "stream",
     "text": [
      "0.92166\n"
     ]
    }
   ],
   "source": [
    "print(count/50000)"
   ]
  },
  {
   "cell_type": "code",
   "execution_count": 125,
   "metadata": {},
   "outputs": [],
   "source": [
    "import pickle\n",
    "f=open('C:\\\\Users\\\\kshitij\\\\Desktop\\\\coursera asg\\\\datasets\\\\parameters.pckl','wb')\n",
    "pickle.dump(parameters,f)\n",
    "f.close()"
   ]
  },
  {
   "cell_type": "code",
   "execution_count": null,
   "metadata": {},
   "outputs": [],
   "source": []
  }
 ],
 "metadata": {
  "kernelspec": {
   "display_name": "Python 3",
   "language": "python",
   "name": "python3"
  },
  "language_info": {
   "codemirror_mode": {
    "name": "ipython",
    "version": 3
   },
   "file_extension": ".py",
   "mimetype": "text/x-python",
   "name": "python",
   "nbconvert_exporter": "python",
   "pygments_lexer": "ipython3",
   "version": "3.7.6"
  }
 },
 "nbformat": 4,
 "nbformat_minor": 4
}
